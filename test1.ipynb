{
 "cells": [
  {
   "cell_type": "code",
   "outputs": [
    {
     "ename": "OSError",
     "evalue": "GITHUB_TOKEN environment variable not detected. Please set the GITHUB_TOKEN environment variable before running this script.You can set it by running the following command in the terminal:\nexport GITHUB_TOKEN='your GitHub token'",
     "output_type": "error",
     "traceback": [
      "\u001B[0;31m---------------------------------------------------------------------------\u001B[0m",
      "\u001B[0;31mOSError\u001B[0m                                   Traceback (most recent call last)",
      "Cell \u001B[0;32mIn[1], line 14\u001B[0m\n\u001B[1;32m     11\u001B[0m     \u001B[38;5;28;01melse\u001B[39;00m:\n\u001B[1;32m     12\u001B[0m         \u001B[38;5;28mprint\u001B[39m(\u001B[38;5;124m\"\u001B[39m\u001B[38;5;124mGitHub token detected.\u001B[39m\u001B[38;5;124m\"\u001B[39m)\n\u001B[0;32m---> 14\u001B[0m \u001B[43mcheck_github_token\u001B[49m\u001B[43m(\u001B[49m\u001B[43m)\u001B[49m\n",
      "Cell \u001B[0;32mIn[1], line 6\u001B[0m, in \u001B[0;36mcheck_github_token\u001B[0;34m()\u001B[0m\n\u001B[1;32m      4\u001B[0m github_token \u001B[38;5;241m=\u001B[39m os\u001B[38;5;241m.\u001B[39mgetenv(\u001B[38;5;124m'\u001B[39m\u001B[38;5;124mGITHUB_TOKEN\u001B[39m\u001B[38;5;124m'\u001B[39m)\n\u001B[1;32m      5\u001B[0m \u001B[38;5;28;01mif\u001B[39;00m github_token \u001B[38;5;129;01mis\u001B[39;00m \u001B[38;5;28;01mNone\u001B[39;00m:\n\u001B[0;32m----> 6\u001B[0m     \u001B[38;5;28;01mraise\u001B[39;00m \u001B[38;5;167;01mEnvironmentError\u001B[39;00m(\n\u001B[1;32m      7\u001B[0m         \u001B[38;5;124m\"\u001B[39m\u001B[38;5;124mGITHUB_TOKEN environment variable not detected. Please set the GITHUB_TOKEN environment variable before running this script.\u001B[39m\u001B[38;5;124m\"\u001B[39m\n\u001B[1;32m      8\u001B[0m         \u001B[38;5;124m\"\u001B[39m\u001B[38;5;124mYou can set it by running the following command in the terminal:\u001B[39m\u001B[38;5;130;01m\\n\u001B[39;00m\u001B[38;5;124m\"\u001B[39m\n\u001B[1;32m      9\u001B[0m         \u001B[38;5;124m\"\u001B[39m\u001B[38;5;124mexport GITHUB_TOKEN=\u001B[39m\u001B[38;5;124m'\u001B[39m\u001B[38;5;124myour GitHub token\u001B[39m\u001B[38;5;124m'\u001B[39m\u001B[38;5;124m\"\u001B[39m\n\u001B[1;32m     10\u001B[0m     )\n\u001B[1;32m     11\u001B[0m \u001B[38;5;28;01melse\u001B[39;00m:\n\u001B[1;32m     12\u001B[0m     \u001B[38;5;28mprint\u001B[39m(\u001B[38;5;124m\"\u001B[39m\u001B[38;5;124mGitHub token detected.\u001B[39m\u001B[38;5;124m\"\u001B[39m)\n",
      "\u001B[0;31mOSError\u001B[0m: GITHUB_TOKEN environment variable not detected. Please set the GITHUB_TOKEN environment variable before running this script.You can set it by running the following command in the terminal:\nexport GITHUB_TOKEN='your GitHub token'"
     ]
    }
   ],
   "source": [
    "import os\n",
    "\n",
    "def check_github_token():\n",
    "    github_token = os.getenv('GITHUB_API_TOKEN')\n",
    "    if github_token is None:\n",
    "        raise EnvironmentError(\n",
    "            \"GITHUB_TOKEN environment variable not detected. Please set the GITHUB_TOKEN environment variable before running this script.\"\n",
    "            \"You can set it by running the following command in the terminal:\\n\"\n",
    "            \"export GITHUB_TOKEN='your GitHub token'\"\n",
    "        )\n",
    "    else:\n",
    "        print(\"GitHub token detected.\")\n",
    "\n",
    "check_github_token()"
   ],
   "metadata": {
    "collapsed": false,
    "ExecuteTime": {
     "end_time": "2024-08-07T15:44:17.542187Z",
     "start_time": "2024-08-07T15:44:17.433838Z"
    }
   },
   "id": "6ddcb603014ffe1f",
   "execution_count": 1
  },
  {
   "cell_type": "code",
   "outputs": [],
   "source": [
    "token = os.getenv('GITHUB_API_TOKEN')\n",
    "repo = 'Tellyxu/testforautouploadlogs'"
   ],
   "metadata": {
    "collapsed": false,
    "ExecuteTime": {
     "end_time": "2024-08-07T15:44:23.128075Z",
     "start_time": "2024-08-07T15:44:23.124838Z"
    }
   },
   "id": "d48650357a3e2e54",
   "execution_count": 2
  },
  {
   "cell_type": "code",
   "outputs": [],
   "source": [
    "import traceback\n",
    "from IPython.core.magic import register_cell_magic\n",
    "from IPython import get_ipython\n",
    "import requests\n",
    "\n",
    "def create_github_issue(title, body, token, repo):\n",
    "    url = f'https://api.github.com/repos/{repo}/issues'\n",
    "    headers = {'Authorization': f'token {token}'}\n",
    "    data = {'title': title, 'body': body}\n",
    "    response = requests.post(url, json=data, headers=headers)\n",
    "    if response.status_code == 201:\n",
    "        print('Successfully created Issue:', title)\n",
    "    else:\n",
    "        print('Could not create Issue')\n",
    "        print('Response:', response.content)\n",
    "\n",
    "\n",
    "\n",
    "\n",
    "@register_cell_magic\n",
    "def catch_and_report(line, cell):\n",
    "    ipython = get_ipython()\n",
    "    # Using store_history=False to avoid polluting the user's command history\n",
    "    result = ipython.run_cell(cell, store_history=False)\n",
    "    if result.error_in_exec is not None:\n",
    "        error_log = str(result.error_in_exec)\n",
    "        # Using IPython's way to get traceback\n",
    "        tb = result.error_in_exec.__traceback__\n",
    "        formatted_traceback = ''.join(traceback.format_tb(tb))\n",
    "        formatted_cell_code = f\"```python\\n{cell}\\n```\"\n",
    "        full_error_message = f\"Error: {error_log}\\nTraceback:\\n{formatted_traceback}\\n\\nCell Code:\\n{formatted_cell_code}\"\n",
    "        print(full_error_message)\n",
    "        create_github_issue(error_log, full_error_message, token, repo)\n",
    "    else:\n",
    "        print(\"No error occurred.\")\n",
    "\n",
    "# To use, add %%catch_and_report at the beginning of the cell\n"
   ],
   "metadata": {
    "collapsed": false,
    "ExecuteTime": {
     "end_time": "2024-08-07T15:44:24.648922Z",
     "start_time": "2024-08-07T15:44:24.589310Z"
    }
   },
   "id": "d790716514a69add",
   "execution_count": 3
  },
  {
   "cell_type": "code",
   "outputs": [
    {
     "name": "stdout",
     "output_type": "stream",
     "text": [
      "11\n"
     ]
    },
    {
     "ename": "ZeroDivisionError",
     "evalue": "division by zero",
     "output_type": "error",
     "traceback": [
      "\u001B[0;31m---------------------------------------------------------------------------\u001B[0m",
      "\u001B[0;31mZeroDivisionError\u001B[0m                         Traceback (most recent call last)",
      "Cell \u001B[0;32mIn[4], line 8\u001B[0m\n\u001B[1;32m      5\u001B[0m aaaaaaa \u001B[38;5;241m=\u001B[39m aaaaaaa \u001B[38;5;241m+\u001B[39m \u001B[38;5;241m1\u001B[39m\n\u001B[1;32m      7\u001B[0m \u001B[38;5;28mprint\u001B[39m(aaaaaaa)\n\u001B[0;32m----> 8\u001B[0m \u001B[38;5;28mprint\u001B[39m(\u001B[43mf\u001B[49m\u001B[43m(\u001B[49m\u001B[38;5;241;43m222\u001B[39;49m\u001B[43m)\u001B[49m)\n",
      "Cell \u001B[0;32mIn[4], line 2\u001B[0m, in \u001B[0;36mf\u001B[0;34m(x)\u001B[0m\n\u001B[1;32m      1\u001B[0m \u001B[38;5;28;01mdef\u001B[39;00m \u001B[38;5;21mf\u001B[39m(x):\n\u001B[0;32m----> 2\u001B[0m     \u001B[38;5;28;01mreturn\u001B[39;00m \u001B[43mx\u001B[49m\u001B[43m \u001B[49m\u001B[38;5;241;43m/\u001B[39;49m\u001B[43m \u001B[49m\u001B[38;5;241;43m0\u001B[39;49m\n",
      "\u001B[0;31mZeroDivisionError\u001B[0m: division by zero"
     ]
    },
    {
     "name": "stdout",
     "output_type": "stream",
     "text": [
      "Error: division by zero\n",
      "Traceback:\n",
      "  File \"/Users/telly/Library/Python/3.9/lib/python/site-packages/IPython/core/interactiveshell.py\", line 3442, in run_code\n",
      "    exec(code_obj, self.user_global_ns, self.user_ns)\n",
      "  File \"/var/folders/pr/fx2t93c96kx8t8_szk7xsw_00000gn/T/ipykernel_98414/4139931087.py\", line 8, in <module>\n",
      "    print(f(222))\n",
      "  File \"/var/folders/pr/fx2t93c96kx8t8_szk7xsw_00000gn/T/ipykernel_98414/4139931087.py\", line 2, in f\n",
      "    return x / 0\n",
      "\n",
      "\n",
      "Cell Code:\n",
      "```python\n",
      "def f(x):\n",
      "    return x / 0\n",
      "aaaaaaa= 10\n",
      "\n",
      "aaaaaaa = aaaaaaa + 1\n",
      "\n",
      "print(aaaaaaa)\n",
      "print(f(222))\n",
      "\n",
      "```\n",
      "Successfully created Issue: division by zero\n"
     ]
    }
   ],
   "source": [
    "%%catch_and_report\n",
    "def f(x):\n",
    "    return x / 0\n",
    "aaaaaaa= 10\n",
    "\n",
    "aaaaaaa = aaaaaaa + 1\n",
    "\n",
    "print(aaaaaaa)\n",
    "print(f(222))"
   ],
   "metadata": {
    "collapsed": false,
    "ExecuteTime": {
     "end_time": "2024-08-07T15:44:27.170632Z",
     "start_time": "2024-08-07T15:44:26.485843Z"
    }
   },
   "id": "b8a6a92062070bed",
   "execution_count": 4
  }
 ],
 "metadata": {
  "kernelspec": {
   "display_name": "Python 3",
   "language": "python",
   "name": "python3"
  },
  "language_info": {
   "codemirror_mode": {
    "name": "ipython",
    "version": 2
   },
   "file_extension": ".py",
   "mimetype": "text/x-python",
   "name": "python",
   "nbconvert_exporter": "python",
   "pygments_lexer": "ipython2",
   "version": "2.7.6"
  }
 },
 "nbformat": 4,
 "nbformat_minor": 5
}
