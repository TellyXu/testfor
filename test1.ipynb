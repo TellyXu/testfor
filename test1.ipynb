{
 "cells": [
  {
   "cell_type": "code",
   "outputs": [],
   "source": [
    "from IPython.core.magic import register_cell_magic\n",
    "from IPython import get_ipython\n",
    "import requests\n",
    "\n",
    "def create_github_issue(title, body, token, repo):\n",
    "    url = f'https://api.github.com/repos/{repo}/issues'\n",
    "    headers = {'Authorization': f'token {token}'}\n",
    "    data = {'title': title, 'body': body}\n",
    "    response = requests.post(url, json=data, headers=headers)\n",
    "    if response.status_code == 201:\n",
    "        print('Successfully created Issue:', title)\n",
    "    else:\n",
    "        print('Could not create Issue')\n",
    "        print('Response:', response.content)\n",
    "\n",
    "token = '' # Add your token here\n",
    "repo = 'Tellyxu/testforautouploadlogs'\n",
    "\n",
    "@register_cell_magic\n",
    "def catch_and_report(line, cell):\n",
    "    try:\n",
    "        ipython = get_ipython()\n",
    "        result = ipython.run_cell(cell)\n",
    "        if result.error_in_exec is not None:\n",
    "            error_log = str(result.error_in_exec)\n",
    "            print(\"Error:\", error_log)\n",
    "            \n",
    "            create_github_issue('Error', error_log,token, repo)\n",
    "    except Exception as e:\n",
    "        print(\"Unexpected error:\", str(e))\n",
    "        create_github_issue('Unexpected error', str(e),token, repo)\n",
    "\n",
    "# To use, add %%catch_and_report at the beginning of the cell\n"
   ],
   "metadata": {
    "collapsed": false,
    "ExecuteTime": {
     "end_time": "2024-08-07T13:32:19.767790Z",
     "start_time": "2024-08-07T13:32:19.710458Z"
    }
   },
   "id": "d790716514a69add",
   "execution_count": 1
  },
  {
   "cell_type": "code",
   "outputs": [
    {
     "ename": "NameError",
     "evalue": "name 'sadasdasdasd' is not defined",
     "output_type": "error",
     "traceback": [
      "\u001B[0;31m---------------------------------------------------------------------------\u001B[0m",
      "\u001B[0;31mNameError\u001B[0m                                 Traceback (most recent call last)",
      "Cell \u001B[0;32mIn[3], line 1\u001B[0m\n\u001B[0;32m----> 1\u001B[0m \u001B[43msadasdasdasd\u001B[49m\n",
      "\u001B[0;31mNameError\u001B[0m: name 'sadasdasdasd' is not defined"
     ]
    },
    {
     "name": "stdout",
     "output_type": "stream",
     "text": [
      "Error: name 'sadasdasdasd' is not defined\n",
      "Successfully created Issue: Error:\n"
     ]
    }
   ],
   "source": [
    "%%catch_and_report\n",
    "sadasdasdasd"
   ],
   "metadata": {
    "collapsed": false,
    "ExecuteTime": {
     "end_time": "2024-08-07T13:32:42.543933Z",
     "start_time": "2024-08-07T13:32:41.631132Z"
    }
   },
   "id": "b8a6a92062070bed",
   "execution_count": 3
  }
 ],
 "metadata": {
  "kernelspec": {
   "display_name": "Python 3",
   "language": "python",
   "name": "python3"
  },
  "language_info": {
   "codemirror_mode": {
    "name": "ipython",
    "version": 2
   },
   "file_extension": ".py",
   "mimetype": "text/x-python",
   "name": "python",
   "nbconvert_exporter": "python",
   "pygments_lexer": "ipython2",
   "version": "2.7.6"
  }
 },
 "nbformat": 4,
 "nbformat_minor": 5
}
