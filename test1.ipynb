{
 "cells": [
  {
   "cell_type": "code",
   "outputs": [],
   "source": [
    "import traceback\n",
    "from IPython.core.magic import register_cell_magic\n",
    "from IPython import get_ipython\n",
    "import requests\n",
    "\n",
    "def create_github_issue(title, body, token, repo):\n",
    "    url = f'https://api.github.com/repos/{repo}/issues'\n",
    "    headers = {'Authorization': f'token {token}'}\n",
    "    data = {'title': title, 'body': body}\n",
    "    response = requests.post(url, json=data, headers=headers)\n",
    "    if response.status_code == 201:\n",
    "        print('Successfully created Issue:', title)\n",
    "    else:\n",
    "        print('Could not create Issue')\n",
    "        print('Response:', response.content)\n",
    "\n",
    "token = '' # Add your token here\n",
    "repo = 'Tellyxu/testforautouploadlogs'\n",
    "\n",
    "\n",
    "@register_cell_magic\n",
    "def catch_and_report(line, cell):\n",
    "    ipython = get_ipython()\n",
    "    # Using store_history=False to avoid polluting the user's command history\n",
    "    result = ipython.run_cell(cell, store_history=False)\n",
    "    if result.error_in_exec is not None:\n",
    "        error_log = str(result.error_in_exec)\n",
    "        # Using IPython's way to get traceback\n",
    "        tb = result.error_in_exec.__traceback__\n",
    "        formatted_traceback = ''.join(traceback.format_tb(tb))\n",
    "        formatted_cell_code = f\"```python\\n{cell}\\n```\"\n",
    "        full_error_message = f\"Error: {error_log}\\nTraceback:\\n{formatted_traceback}\\n\\nCell Code:\\n{formatted_cell_code}\"\n",
    "        print(full_error_message)\n",
    "        create_github_issue(error_log, full_error_message, token, repo)\n",
    "    else:\n",
    "        print(\"No error occurred.\")\n",
    "\n",
    "# To use, add %%catch_and_report at the beginning of the cell\n"
   ],
   "metadata": {
    "collapsed": false,
    "ExecuteTime": {
     "end_time": "2024-08-07T14:52:46.616341Z",
     "start_time": "2024-08-07T14:52:46.604894Z"
    }
   },
   "id": "d790716514a69add",
   "execution_count": 18
  },
  {
   "cell_type": "code",
   "outputs": [
    {
     "name": "stdout",
     "output_type": "stream",
     "text": [
      "11\n"
     ]
    },
    {
     "ename": "ZeroDivisionError",
     "evalue": "division by zero",
     "output_type": "error",
     "traceback": [
      "\u001B[0;31m---------------------------------------------------------------------------\u001B[0m",
      "\u001B[0;31mZeroDivisionError\u001B[0m                         Traceback (most recent call last)",
      "Cell \u001B[0;32mIn[19], line 8\u001B[0m\n\u001B[1;32m      5\u001B[0m aaaaaaa \u001B[38;5;241m=\u001B[39m aaaaaaa \u001B[38;5;241m+\u001B[39m \u001B[38;5;241m1\u001B[39m\n\u001B[1;32m      7\u001B[0m \u001B[38;5;28mprint\u001B[39m(aaaaaaa)\n\u001B[0;32m----> 8\u001B[0m \u001B[38;5;28mprint\u001B[39m(\u001B[43mf\u001B[49m\u001B[43m(\u001B[49m\u001B[38;5;241;43m222\u001B[39;49m\u001B[43m)\u001B[49m)\n",
      "Cell \u001B[0;32mIn[19], line 2\u001B[0m, in \u001B[0;36mf\u001B[0;34m(x)\u001B[0m\n\u001B[1;32m      1\u001B[0m \u001B[38;5;28;01mdef\u001B[39;00m \u001B[38;5;21mf\u001B[39m(x):\n\u001B[0;32m----> 2\u001B[0m     \u001B[38;5;28;01mreturn\u001B[39;00m \u001B[43mx\u001B[49m\u001B[43m \u001B[49m\u001B[38;5;241;43m/\u001B[39;49m\u001B[43m \u001B[49m\u001B[38;5;241;43m0\u001B[39;49m\n",
      "\u001B[0;31mZeroDivisionError\u001B[0m: division by zero"
     ]
    },
    {
     "name": "stdout",
     "output_type": "stream",
     "text": [
      "Error: division by zero\n",
      "Traceback:\n",
      "  File \"/Users/telly/Library/Python/3.9/lib/python/site-packages/IPython/core/interactiveshell.py\", line 3442, in run_code\n",
      "    exec(code_obj, self.user_global_ns, self.user_ns)\n",
      "  File \"/var/folders/pr/fx2t93c96kx8t8_szk7xsw_00000gn/T/ipykernel_94817/4139931087.py\", line 8, in <module>\n",
      "    print(f(222))\n",
      "  File \"/var/folders/pr/fx2t93c96kx8t8_szk7xsw_00000gn/T/ipykernel_94817/4139931087.py\", line 2, in f\n",
      "    return x / 0\n",
      "\n",
      "\n",
      "Cell Code:\n",
      "```python\n",
      "def f(x):\n",
      "    return x / 0\n",
      "aaaaaaa= 10\n",
      "\n",
      "aaaaaaa = aaaaaaa + 1\n",
      "\n",
      "print(aaaaaaa)\n",
      "print(f(222))\n",
      "\n",
      "```\n",
      "Successfully created Issue: division by zero\n"
     ]
    }
   ],
   "source": [
    "%%catch_and_report\n",
    "def f(x):\n",
    "    return x / 0\n",
    "aaaaaaa= 10\n",
    "\n",
    "aaaaaaa = aaaaaaa + 1\n",
    "\n",
    "print(aaaaaaa)\n",
    "print(f(222))"
   ],
   "metadata": {
    "collapsed": false,
    "ExecuteTime": {
     "end_time": "2024-08-07T14:52:47.276102Z",
     "start_time": "2024-08-07T14:52:46.618389Z"
    }
   },
   "id": "b8a6a92062070bed",
   "execution_count": 19
  }
 ],
 "metadata": {
  "kernelspec": {
   "display_name": "Python 3",
   "language": "python",
   "name": "python3"
  },
  "language_info": {
   "codemirror_mode": {
    "name": "ipython",
    "version": 2
   },
   "file_extension": ".py",
   "mimetype": "text/x-python",
   "name": "python",
   "nbconvert_exporter": "python",
   "pygments_lexer": "ipython2",
   "version": "2.7.6"
  }
 },
 "nbformat": 4,
 "nbformat_minor": 5
}
